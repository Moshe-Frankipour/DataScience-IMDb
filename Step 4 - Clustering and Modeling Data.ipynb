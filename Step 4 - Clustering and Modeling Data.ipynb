{
 "cells": [
  {
   "cell_type": "markdown",
   "id": "9cb081a0",
   "metadata": {},
   "source": [
    "## Step 4 - Clustering and Modeling Data"
   ]
  },
  {
   "cell_type": "markdown",
   "id": "8d500bea",
   "metadata": {},
   "source": [
    "In this step, we will Clustering the data into groups, modeling and compare the algorithms results"
   ]
  },
  {
   "cell_type": "code",
   "execution_count": null,
   "id": "eb10c822",
   "metadata": {},
   "outputs": [],
   "source": []
  }
 ],
 "metadata": {
  "kernelspec": {
   "display_name": "Python 3 (ipykernel)",
   "language": "python",
   "name": "python3"
  },
  "language_info": {
   "codemirror_mode": {
    "name": "ipython",
    "version": 3
   },
   "file_extension": ".py",
   "mimetype": "text/x-python",
   "name": "python",
   "nbconvert_exporter": "python",
   "pygments_lexer": "ipython3",
   "version": "3.9.7"
  }
 },
 "nbformat": 4,
 "nbformat_minor": 5
}
