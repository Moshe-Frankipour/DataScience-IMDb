{
 "cells": [
  {
   "cell_type": "markdown",
   "id": "10f6255d",
   "metadata": {},
   "source": [
    "## Step 4 - Advanced data analysis"
   ]
  },
  {
   "cell_type": "markdown",
   "id": "33c56a30",
   "metadata": {},
   "source": [
    "In this step, We will perform machine learning with several types of algorithms and draw conclusions"
   ]
  },
  {
   "cell_type": "code",
   "execution_count": 1,
   "id": "690e1f4a",
   "metadata": {},
   "outputs": [
    {
     "name": "stdout",
     "output_type": "stream",
     "text": [
      "Requirement already satisfied: xgboost in c:\\users\\mfranki\\anaconda3\\lib\\site-packages (1.6.1)\n",
      "Requirement already satisfied: scipy in c:\\users\\mfranki\\anaconda3\\lib\\site-packages (from xgboost) (1.7.1)\n",
      "Requirement already satisfied: numpy in c:\\users\\mfranki\\anaconda3\\lib\\site-packages (from xgboost) (1.20.3)\n"
     ]
    }
   ],
   "source": [
    "!pip install xgboost"
   ]
  },
  {
   "cell_type": "code",
   "execution_count": 2,
   "id": "56dac3fc",
   "metadata": {
    "scrolled": true
   },
   "outputs": [
    {
     "name": "stdout",
     "output_type": "stream",
     "text": [
      "Requirement already satisfied: shap in c:\\users\\mfranki\\anaconda3\\lib\\site-packages (0.41.0)\n",
      "Requirement already satisfied: tqdm>4.25.0 in c:\\users\\mfranki\\anaconda3\\lib\\site-packages (from shap) (4.62.3)\n",
      "Requirement already satisfied: packaging>20.9 in c:\\users\\mfranki\\anaconda3\\lib\\site-packages (from shap) (21.0)\n",
      "Requirement already satisfied: numpy in c:\\users\\mfranki\\anaconda3\\lib\\site-packages (from shap) (1.20.3)\n",
      "Requirement already satisfied: scikit-learn in c:\\users\\mfranki\\anaconda3\\lib\\site-packages (from shap) (0.24.2)\n",
      "Requirement already satisfied: pandas in c:\\users\\mfranki\\anaconda3\\lib\\site-packages (from shap) (1.3.4)\n",
      "Requirement already satisfied: cloudpickle in c:\\users\\mfranki\\anaconda3\\lib\\site-packages (from shap) (2.0.0)\n",
      "Requirement already satisfied: slicer==0.0.7 in c:\\users\\mfranki\\anaconda3\\lib\\site-packages (from shap) (0.0.7)\n",
      "Requirement already satisfied: numba in c:\\users\\mfranki\\anaconda3\\lib\\site-packages (from shap) (0.54.1)\n",
      "Requirement already satisfied: scipy in c:\\users\\mfranki\\anaconda3\\lib\\site-packages (from shap) (1.7.1)\n",
      "Requirement already satisfied: pyparsing>=2.0.2 in c:\\users\\mfranki\\anaconda3\\lib\\site-packages (from packaging>20.9->shap) (3.0.4)\n",
      "Requirement already satisfied: colorama in c:\\users\\mfranki\\appdata\\roaming\\python\\python39\\site-packages (from tqdm>4.25.0->shap) (0.4.4)\n",
      "Requirement already satisfied: llvmlite<0.38,>=0.37.0rc1 in c:\\users\\mfranki\\anaconda3\\lib\\site-packages (from numba->shap) (0.37.0)\n",
      "Requirement already satisfied: setuptools in c:\\users\\mfranki\\anaconda3\\lib\\site-packages (from numba->shap) (58.0.4)\n",
      "Requirement already satisfied: python-dateutil>=2.7.3 in c:\\users\\mfranki\\anaconda3\\lib\\site-packages (from pandas->shap) (2.8.2)\n",
      "Requirement already satisfied: pytz>=2017.3 in c:\\users\\mfranki\\anaconda3\\lib\\site-packages (from pandas->shap) (2021.3)\n",
      "Requirement already satisfied: six>=1.5 in c:\\users\\mfranki\\anaconda3\\lib\\site-packages (from python-dateutil>=2.7.3->pandas->shap) (1.16.0)\n",
      "Requirement already satisfied: joblib>=0.11 in c:\\users\\mfranki\\anaconda3\\lib\\site-packages (from scikit-learn->shap) (1.1.0)\n",
      "Requirement already satisfied: threadpoolctl>=2.0.0 in c:\\users\\mfranki\\anaconda3\\lib\\site-packages (from scikit-learn->shap) (2.2.0)\n"
     ]
    }
   ],
   "source": [
    "!pip install shap"
   ]
  },
  {
   "cell_type": "code",
   "execution_count": 140,
   "id": "96b251bd",
   "metadata": {},
   "outputs": [],
   "source": [
    "import pandas as pd\n",
    "import shap\n",
    "from xgboost import XGBRegressor\n",
    "from sklearn.metrics import mean_absolute_error, mean_squared_error\n",
    "from sklearn.linear_model import LinearRegression\n",
    "from sklearn.neighbors import KNeighborsRegressor\n",
    "from sklearn.ensemble import RandomForestRegressor"
   ]
  },
  {
   "cell_type": "code",
   "execution_count": 141,
   "id": "fe7e6be3",
   "metadata": {
    "scrolled": true
   },
   "outputs": [
    {
     "data": {
      "text/html": [
       "<div>\n",
       "<style scoped>\n",
       "    .dataframe tbody tr th:only-of-type {\n",
       "        vertical-align: middle;\n",
       "    }\n",
       "\n",
       "    .dataframe tbody tr th {\n",
       "        vertical-align: top;\n",
       "    }\n",
       "\n",
       "    .dataframe thead th {\n",
       "        text-align: right;\n",
       "    }\n",
       "</style>\n",
       "<table border=\"1\" class=\"dataframe\">\n",
       "  <thead>\n",
       "    <tr style=\"text-align: right;\">\n",
       "      <th></th>\n",
       "      <th>Name</th>\n",
       "      <th>Genre</th>\n",
       "      <th>Year</th>\n",
       "      <th>Imdb Rating</th>\n",
       "      <th>Director</th>\n",
       "      <th>Votes</th>\n",
       "      <th>Gross</th>\n",
       "      <th>malesRating</th>\n",
       "      <th>malesCount</th>\n",
       "      <th>femalesRating</th>\n",
       "      <th>femalesCount</th>\n",
       "    </tr>\n",
       "  </thead>\n",
       "  <tbody>\n",
       "    <tr>\n",
       "      <th>0</th>\n",
       "      <td>The Dark Knight</td>\n",
       "      <td>Action</td>\n",
       "      <td>2008</td>\n",
       "      <td>9.0</td>\n",
       "      <td>Christopher Nolan</td>\n",
       "      <td>2573361</td>\n",
       "      <td>534.86</td>\n",
       "      <td>9.0</td>\n",
       "      <td>1480015</td>\n",
       "      <td>8.7</td>\n",
       "      <td>265210</td>\n",
       "    </tr>\n",
       "    <tr>\n",
       "      <th>1</th>\n",
       "      <td>The Lord of the Rings: The Return of the King</td>\n",
       "      <td>Action</td>\n",
       "      <td>2003</td>\n",
       "      <td>9.0</td>\n",
       "      <td>Peter Jackson</td>\n",
       "      <td>1786873</td>\n",
       "      <td>377.85</td>\n",
       "      <td>9.0</td>\n",
       "      <td>1030137</td>\n",
       "      <td>8.9</td>\n",
       "      <td>218645</td>\n",
       "    </tr>\n",
       "    <tr>\n",
       "      <th>2</th>\n",
       "      <td>Inception</td>\n",
       "      <td>Action</td>\n",
       "      <td>2010</td>\n",
       "      <td>8.8</td>\n",
       "      <td>Christopher Nolan</td>\n",
       "      <td>2283048</td>\n",
       "      <td>292.58</td>\n",
       "      <td>8.8</td>\n",
       "      <td>1263368</td>\n",
       "      <td>8.7</td>\n",
       "      <td>294017</td>\n",
       "    </tr>\n",
       "    <tr>\n",
       "      <th>3</th>\n",
       "      <td>The Lord of the Rings: The Two Towers</td>\n",
       "      <td>Action</td>\n",
       "      <td>2002</td>\n",
       "      <td>8.8</td>\n",
       "      <td>Peter Jackson</td>\n",
       "      <td>1613775</td>\n",
       "      <td>342.55</td>\n",
       "      <td>8.8</td>\n",
       "      <td>925097</td>\n",
       "      <td>8.7</td>\n",
       "      <td>202157</td>\n",
       "    </tr>\n",
       "    <tr>\n",
       "      <th>4</th>\n",
       "      <td>The Lord of the Rings: The Fellowship of the Ring</td>\n",
       "      <td>Action</td>\n",
       "      <td>2001</td>\n",
       "      <td>8.8</td>\n",
       "      <td>Peter Jackson</td>\n",
       "      <td>1807955</td>\n",
       "      <td>315.54</td>\n",
       "      <td>8.8</td>\n",
       "      <td>1025720</td>\n",
       "      <td>8.8</td>\n",
       "      <td>229858</td>\n",
       "    </tr>\n",
       "  </tbody>\n",
       "</table>\n",
       "</div>"
      ],
      "text/plain": [
       "                                                Name   Genre  Year  \\\n",
       "0                                    The Dark Knight  Action  2008   \n",
       "1      The Lord of the Rings: The Return of the King  Action  2003   \n",
       "2                                          Inception  Action  2010   \n",
       "3              The Lord of the Rings: The Two Towers  Action  2002   \n",
       "4  The Lord of the Rings: The Fellowship of the Ring  Action  2001   \n",
       "\n",
       "   Imdb Rating           Director    Votes   Gross  malesRating  malesCount  \\\n",
       "0          9.0  Christopher Nolan  2573361  534.86          9.0     1480015   \n",
       "1          9.0      Peter Jackson  1786873  377.85          9.0     1030137   \n",
       "2          8.8  Christopher Nolan  2283048  292.58          8.8     1263368   \n",
       "3          8.8      Peter Jackson  1613775  342.55          8.8      925097   \n",
       "4          8.8      Peter Jackson  1807955  315.54          8.8     1025720   \n",
       "\n",
       "   femalesRating  femalesCount  \n",
       "0            8.7        265210  \n",
       "1            8.9        218645  \n",
       "2            8.7        294017  \n",
       "3            8.7        202157  \n",
       "4            8.8        229858  "
      ]
     },
     "execution_count": 141,
     "metadata": {},
     "output_type": "execute_result"
    }
   ],
   "source": [
    "data = pd.read_csv(\"IMDb_rating_data_after_scrubbing.csv\",index_col = 0)\n",
    "data.head()"
   ]
  },
  {
   "cell_type": "markdown",
   "id": "b41c78bd",
   "metadata": {},
   "source": [
    "### We will create new features that will help us analyze the data"
   ]
  },
  {
   "cell_type": "markdown",
   "id": "de915959",
   "metadata": {},
   "source": [
    "#### Since the movie names are strings and not a numeric value, we will create a new feature"
   ]
  },
  {
   "cell_type": "code",
   "execution_count": 142,
   "id": "c4d32d51",
   "metadata": {
    "scrolled": false
   },
   "outputs": [],
   "source": [
    "#TODO: try to find other interesting features from the movie name, how many words, specific words that women\\men like\n",
    "data['Name length'] = data.Name.str.len()"
   ]
  },
  {
   "cell_type": "markdown",
   "id": "8b567110",
   "metadata": {},
   "source": [
    "#### Because there is an unlimited number of Director, we will clear the data to a level of 15 repetitions of the same value"
   ]
  },
  {
   "cell_type": "code",
   "execution_count": 143,
   "id": "7895832f",
   "metadata": {},
   "outputs": [
    {
     "name": "stdout",
     "output_type": "stream",
     "text": [
      "Steven Spielberg      49\n",
      "Alfred Hitchcock      45\n",
      "Hayao Miyazaki        44\n",
      "Clint Eastwood        35\n",
      "Ron Clements          35\n",
      "                      ..\n",
      "Ben Lewin              1\n",
      "Colm McCarthy          1\n",
      "Christopher Landon     1\n",
      "Sergio G. Sánchez      1\n",
      "Seth MacFarlane        1\n",
      "Name: Director, Length: 1208, dtype: int64\n"
     ]
    }
   ],
   "source": [
    "dirc = data.Director.value_counts()\n",
    "print (dirc)\n",
    "data.loc[dirc[dirc<15],'Director'] = 'Other'"
   ]
  },
  {
   "cell_type": "markdown",
   "id": "34a8c240",
   "metadata": {},
   "source": [
    "#### When we inserted the Director's feature we reached a higher accuracy"
   ]
  },
  {
   "cell_type": "markdown",
   "id": "a495b972",
   "metadata": {},
   "source": [
    "### Create new feature of Age \n",
    "##### (Some time has passed since the movie came out)"
   ]
  },
  {
   "cell_type": "code",
   "execution_count": 144,
   "id": "a2cc1d32",
   "metadata": {},
   "outputs": [],
   "source": [
    "data['Age'] = 2022 - data[\"Year\"]"
   ]
  },
  {
   "cell_type": "code",
   "execution_count": 145,
   "id": "ff0ea86f",
   "metadata": {},
   "outputs": [
    {
     "data": {
      "text/html": [
       "<div>\n",
       "<style scoped>\n",
       "    .dataframe tbody tr th:only-of-type {\n",
       "        vertical-align: middle;\n",
       "    }\n",
       "\n",
       "    .dataframe tbody tr th {\n",
       "        vertical-align: top;\n",
       "    }\n",
       "\n",
       "    .dataframe thead th {\n",
       "        text-align: right;\n",
       "    }\n",
       "</style>\n",
       "<table border=\"1\" class=\"dataframe\">\n",
       "  <thead>\n",
       "    <tr style=\"text-align: right;\">\n",
       "      <th></th>\n",
       "      <th>Year</th>\n",
       "      <th>Imdb Rating</th>\n",
       "      <th>Votes</th>\n",
       "      <th>Gross</th>\n",
       "      <th>malesRating</th>\n",
       "      <th>malesCount</th>\n",
       "      <th>femalesRating</th>\n",
       "      <th>femalesCount</th>\n",
       "      <th>Name length</th>\n",
       "      <th>Age</th>\n",
       "    </tr>\n",
       "  </thead>\n",
       "  <tbody>\n",
       "    <tr>\n",
       "      <th>count</th>\n",
       "      <td>4691.000000</td>\n",
       "      <td>4691.000000</td>\n",
       "      <td>4.691000e+03</td>\n",
       "      <td>4691.000000</td>\n",
       "      <td>4691.000000</td>\n",
       "      <td>4.691000e+03</td>\n",
       "      <td>4691.000000</td>\n",
       "      <td>4691.000000</td>\n",
       "      <td>4691.000000</td>\n",
       "      <td>4691.000000</td>\n",
       "    </tr>\n",
       "    <tr>\n",
       "      <th>mean</th>\n",
       "      <td>1997.571946</td>\n",
       "      <td>7.553976</td>\n",
       "      <td>2.378817e+05</td>\n",
       "      <td>76.863579</td>\n",
       "      <td>7.501258</td>\n",
       "      <td>1.386465e+05</td>\n",
       "      <td>7.595118</td>\n",
       "      <td>30916.202515</td>\n",
       "      <td>15.341079</td>\n",
       "      <td>24.428054</td>\n",
       "    </tr>\n",
       "    <tr>\n",
       "      <th>std</th>\n",
       "      <td>21.439609</td>\n",
       "      <td>0.641831</td>\n",
       "      <td>3.075617e+05</td>\n",
       "      <td>101.605124</td>\n",
       "      <td>0.667830</td>\n",
       "      <td>1.770130e+05</td>\n",
       "      <td>0.599456</td>\n",
       "      <td>39753.877756</td>\n",
       "      <td>8.605030</td>\n",
       "      <td>21.439609</td>\n",
       "    </tr>\n",
       "    <tr>\n",
       "      <th>min</th>\n",
       "      <td>1920.000000</td>\n",
       "      <td>1.900000</td>\n",
       "      <td>2.503700e+04</td>\n",
       "      <td>0.000000</td>\n",
       "      <td>1.700000</td>\n",
       "      <td>2.582000e+03</td>\n",
       "      <td>2.700000</td>\n",
       "      <td>110.000000</td>\n",
       "      <td>1.000000</td>\n",
       "      <td>0.000000</td>\n",
       "    </tr>\n",
       "    <tr>\n",
       "      <th>25%</th>\n",
       "      <td>1989.000000</td>\n",
       "      <td>7.200000</td>\n",
       "      <td>4.925000e+04</td>\n",
       "      <td>9.545000</td>\n",
       "      <td>7.200000</td>\n",
       "      <td>2.930750e+04</td>\n",
       "      <td>7.300000</td>\n",
       "      <td>5630.500000</td>\n",
       "      <td>9.000000</td>\n",
       "      <td>9.000000</td>\n",
       "    </tr>\n",
       "    <tr>\n",
       "      <th>50%</th>\n",
       "      <td>2005.000000</td>\n",
       "      <td>7.600000</td>\n",
       "      <td>1.131430e+05</td>\n",
       "      <td>53.710000</td>\n",
       "      <td>7.600000</td>\n",
       "      <td>6.733400e+04</td>\n",
       "      <td>7.700000</td>\n",
       "      <td>14094.000000</td>\n",
       "      <td>13.000000</td>\n",
       "      <td>17.000000</td>\n",
       "    </tr>\n",
       "    <tr>\n",
       "      <th>75%</th>\n",
       "      <td>2013.000000</td>\n",
       "      <td>8.000000</td>\n",
       "      <td>2.899090e+05</td>\n",
       "      <td>76.860000</td>\n",
       "      <td>7.900000</td>\n",
       "      <td>1.730770e+05</td>\n",
       "      <td>8.000000</td>\n",
       "      <td>39731.000000</td>\n",
       "      <td>19.000000</td>\n",
       "      <td>33.000000</td>\n",
       "    </tr>\n",
       "    <tr>\n",
       "      <th>max</th>\n",
       "      <td>2022.000000</td>\n",
       "      <td>9.300000</td>\n",
       "      <td>2.601939e+06</td>\n",
       "      <td>936.660000</td>\n",
       "      <td>9.300000</td>\n",
       "      <td>1.480017e+06</td>\n",
       "      <td>9.400000</td>\n",
       "      <td>294019.000000</td>\n",
       "      <td>68.000000</td>\n",
       "      <td>102.000000</td>\n",
       "    </tr>\n",
       "  </tbody>\n",
       "</table>\n",
       "</div>"
      ],
      "text/plain": [
       "              Year  Imdb Rating         Votes        Gross  malesRating  \\\n",
       "count  4691.000000  4691.000000  4.691000e+03  4691.000000  4691.000000   \n",
       "mean   1997.571946     7.553976  2.378817e+05    76.863579     7.501258   \n",
       "std      21.439609     0.641831  3.075617e+05   101.605124     0.667830   \n",
       "min    1920.000000     1.900000  2.503700e+04     0.000000     1.700000   \n",
       "25%    1989.000000     7.200000  4.925000e+04     9.545000     7.200000   \n",
       "50%    2005.000000     7.600000  1.131430e+05    53.710000     7.600000   \n",
       "75%    2013.000000     8.000000  2.899090e+05    76.860000     7.900000   \n",
       "max    2022.000000     9.300000  2.601939e+06   936.660000     9.300000   \n",
       "\n",
       "         malesCount  femalesRating   femalesCount  Name length          Age  \n",
       "count  4.691000e+03    4691.000000    4691.000000  4691.000000  4691.000000  \n",
       "mean   1.386465e+05       7.595118   30916.202515    15.341079    24.428054  \n",
       "std    1.770130e+05       0.599456   39753.877756     8.605030    21.439609  \n",
       "min    2.582000e+03       2.700000     110.000000     1.000000     0.000000  \n",
       "25%    2.930750e+04       7.300000    5630.500000     9.000000     9.000000  \n",
       "50%    6.733400e+04       7.700000   14094.000000    13.000000    17.000000  \n",
       "75%    1.730770e+05       8.000000   39731.000000    19.000000    33.000000  \n",
       "max    1.480017e+06       9.400000  294019.000000    68.000000   102.000000  "
      ]
     },
     "execution_count": 145,
     "metadata": {},
     "output_type": "execute_result"
    }
   ],
   "source": [
    "data.describe()"
   ]
  },
  {
   "cell_type": "markdown",
   "id": "89faeaea",
   "metadata": {},
   "source": [
    "#### It can be seen that the 75th percentile of Year represents the year 2013\n",
    "#### selecting only the features we want\n",
    "#### convert categorical features to one-hot vectors"
   ]
  },
  {
   "cell_type": "code",
   "execution_count": 146,
   "id": "98a68368",
   "metadata": {},
   "outputs": [],
   "source": [
    "y = data[\"malesCount\"]/data[\"femalesCount\"]\n",
    "cols = ['Genre',\"Gross\",\"Year\",\"Age\",\"Name length\",'Director']\n",
    "data = data[cols]\n",
    "data = pd.get_dummies(data,columns=['Genre','Director']) "
   ]
  },
  {
   "cell_type": "markdown",
   "id": "e1160683",
   "metadata": {},
   "source": [
    "#### split to train and test, also create the target variable, the ratio of how many women\\men will watch"
   ]
  },
  {
   "cell_type": "code",
   "execution_count": 147,
   "id": "f3547d00",
   "metadata": {},
   "outputs": [],
   "source": [
    "X_train = data[data.Year<2013]\n",
    "X_test = data[data.Year>=2013] #retrospective\n",
    "del X_train['Year'] #will not help us\n",
    "del X_test['Year']"
   ]
  },
  {
   "cell_type": "code",
   "execution_count": 148,
   "id": "649efa8c",
   "metadata": {},
   "outputs": [
    {
     "data": {
      "text/plain": [
       "<AxesSubplot:>"
      ]
     },
     "execution_count": 148,
     "metadata": {},
     "output_type": "execute_result"
    },
    {
     "data": {
      "image/png": "[encoded data removed]",
      "text/plain": [
       "<Figure size 432x288 with 1 Axes>"
      ]
     },
     "metadata": {
      "needs_background": "light"
     },
     "output_type": "display_data"
    }
   ],
   "source": [
    "y_train = y[data.Year<2013]\n",
    "y_test = y[data.Year>=2013]\n",
    "y_train.hist()"
   ]
  },
  {
   "cell_type": "markdown",
   "id": "a2640d15",
   "metadata": {},
   "source": [
    "### Here we can see that there are 1200 movies that have been seen by five men in relation to one woman "
   ]
  },
  {
   "cell_type": "markdown",
   "id": "93ea216a",
   "metadata": {},
   "source": [
    "## Algorithms tested are: Linear regression, KNN, RandomForest"
   ]
  },
  {
   "cell_type": "code",
   "execution_count": 149,
   "id": "440b671e",
   "metadata": {},
   "outputs": [
    {
     "name": "stdout",
     "output_type": "stream",
     "text": [
      "#### XGBRegressor ####\n",
      "Mean Absolute error test for is 2.7354702770570207\n",
      "Mean Absolute error train for is 1.2580624729193948\n",
      "\n",
      "#### Linear regression ####\n",
      "Mean Absolute error test for is 2.8112864611569655\n",
      "Mean Absolute error train for is 0.8907183226849898\n",
      "\n",
      "#### KNN ####\n",
      "Mean Absolute error test for is 4.021453864514384\n",
      "Mean Absolute error train for is 1.5039468803517249\n",
      "\n",
      "#### RF ####\n",
      "Mean Absolute error test for is 2.791988823214564\n",
      "Mean Absolute error train for is 0.5447595469432218\n",
      "\n"
     ]
    }
   ],
   "source": [
    "for name,clf in [(\"XGBRegressor\", XGBRegressor()),\n",
    "                (\"Linear regression\",LinearRegression()),\n",
    "                 (\"KNN\",KNeighborsRegressor()),\n",
    "                 (\"RF\",RandomForestRegressor())]:\n",
    "    clf.fit(X_train,y_train)\n",
    "    pred = clf.predict(X_test)\n",
    "    print (f\"#### {name} ####\")\n",
    "    score = mean_absolute_error(y_test,pred)\n",
    "    print ('Mean Absolute error test for is', score)\n",
    "    score = mean_absolute_error(y_train,clf.predict(X_train))\n",
    "    print ('Mean Absolute error train for is', score)\n",
    "    print ()"
   ]
  },
  {
   "cell_type": "markdown",
   "id": "5355bac7",
   "metadata": {},
   "source": [
    "### We tested three types of machine learning algorithms\n",
    "### We concluded that XGB Regressor  is the algorithm that gave us the best accuracy"
   ]
  },
  {
   "cell_type": "markdown",
   "id": "f676b8e0",
   "metadata": {},
   "source": [
    "#### Importance of properties"
   ]
  },
  {
   "cell_type": "code",
   "execution_count": 150,
   "id": "4c012df2",
   "metadata": {},
   "outputs": [
    {
     "name": "stderr",
     "output_type": "stream",
     "text": [
      "ntree_limit is deprecated, use `iteration_range` or model slicing instead.\n"
     ]
    },
    {
     "data": {
      "image/png": "[encoded data removed]",
      "text/plain": [
       "<Figure size 576x684 with 1 Axes>"
      ]
     },
     "metadata": {
      "needs_background": "light"
     },
     "output_type": "display_data"
    }
   ],
   "source": [
    "clf = XGBRegressor().fit(X_train,y_train)\n",
    "\n",
    "explainer = shap.TreeExplainer(clf)\n",
    "shap_values =explainer.shap_values(X_test)\n",
    "shap.summary_plot(shap_values, X_test, plot_type=\"bar\")"
   ]
  },
  {
   "cell_type": "code",
   "execution_count": 152,
   "id": "1c909c73",
   "metadata": {},
   "outputs": [
    {
     "data": {
      "text/html": [
       "<div>\n",
       "<style scoped>\n",
       "    .dataframe tbody tr th:only-of-type {\n",
       "        vertical-align: middle;\n",
       "    }\n",
       "\n",
       "    .dataframe tbody tr th {\n",
       "        vertical-align: top;\n",
       "    }\n",
       "\n",
       "    .dataframe thead th {\n",
       "        text-align: right;\n",
       "    }\n",
       "</style>\n",
       "<table border=\"1\" class=\"dataframe\">\n",
       "  <thead>\n",
       "    <tr style=\"text-align: right;\">\n",
       "      <th></th>\n",
       "      <th>Gross</th>\n",
       "      <th>Year</th>\n",
       "      <th>Age</th>\n",
       "      <th>Name length</th>\n",
       "      <th>Genre_Action</th>\n",
       "      <th>Genre_Adventure</th>\n",
       "      <th>Genre_Animation</th>\n",
       "      <th>Genre_Biography</th>\n",
       "      <th>Genre_Comedy</th>\n",
       "      <th>Genre_Crime</th>\n",
       "      <th>...</th>\n",
       "      <th>Director_Yorgos Lanthimos</th>\n",
       "      <th>Director_Yoshiaki Kawajiri</th>\n",
       "      <th>Director_Yoshifumi Kondô</th>\n",
       "      <th>Director_Yôjirô Takita</th>\n",
       "      <th>Director_Zack Snyder</th>\n",
       "      <th>Director_Zaza Urushadze</th>\n",
       "      <th>Director_Zoya Akhtar</th>\n",
       "      <th>Director_Éric Lartigau</th>\n",
       "      <th>Director_Ömer Faruk Sorak</th>\n",
       "      <th>Director_Ömer Vargi</th>\n",
       "    </tr>\n",
       "  </thead>\n",
       "  <tbody>\n",
       "    <tr>\n",
       "      <th>0</th>\n",
       "      <td>534.86</td>\n",
       "      <td>2008</td>\n",
       "      <td>14</td>\n",
       "      <td>15</td>\n",
       "      <td>1</td>\n",
       "      <td>0</td>\n",
       "      <td>0</td>\n",
       "      <td>0</td>\n",
       "      <td>0</td>\n",
       "      <td>0</td>\n",
       "      <td>...</td>\n",
       "      <td>0</td>\n",
       "      <td>0</td>\n",
       "      <td>0</td>\n",
       "      <td>0</td>\n",
       "      <td>0</td>\n",
       "      <td>0</td>\n",
       "      <td>0</td>\n",
       "      <td>0</td>\n",
       "      <td>0</td>\n",
       "      <td>0</td>\n",
       "    </tr>\n",
       "    <tr>\n",
       "      <th>1</th>\n",
       "      <td>377.85</td>\n",
       "      <td>2003</td>\n",
       "      <td>19</td>\n",
       "      <td>45</td>\n",
       "      <td>1</td>\n",
       "      <td>0</td>\n",
       "      <td>0</td>\n",
       "      <td>0</td>\n",
       "      <td>0</td>\n",
       "      <td>0</td>\n",
       "      <td>...</td>\n",
       "      <td>0</td>\n",
       "      <td>0</td>\n",
       "      <td>0</td>\n",
       "      <td>0</td>\n",
       "      <td>0</td>\n",
       "      <td>0</td>\n",
       "      <td>0</td>\n",
       "      <td>0</td>\n",
       "      <td>0</td>\n",
       "      <td>0</td>\n",
       "    </tr>\n",
       "    <tr>\n",
       "      <th>2</th>\n",
       "      <td>292.58</td>\n",
       "      <td>2010</td>\n",
       "      <td>12</td>\n",
       "      <td>9</td>\n",
       "      <td>1</td>\n",
       "      <td>0</td>\n",
       "      <td>0</td>\n",
       "      <td>0</td>\n",
       "      <td>0</td>\n",
       "      <td>0</td>\n",
       "      <td>...</td>\n",
       "      <td>0</td>\n",
       "      <td>0</td>\n",
       "      <td>0</td>\n",
       "      <td>0</td>\n",
       "      <td>0</td>\n",
       "      <td>0</td>\n",
       "      <td>0</td>\n",
       "      <td>0</td>\n",
       "      <td>0</td>\n",
       "      <td>0</td>\n",
       "    </tr>\n",
       "    <tr>\n",
       "      <th>3</th>\n",
       "      <td>342.55</td>\n",
       "      <td>2002</td>\n",
       "      <td>20</td>\n",
       "      <td>37</td>\n",
       "      <td>1</td>\n",
       "      <td>0</td>\n",
       "      <td>0</td>\n",
       "      <td>0</td>\n",
       "      <td>0</td>\n",
       "      <td>0</td>\n",
       "      <td>...</td>\n",
       "      <td>0</td>\n",
       "      <td>0</td>\n",
       "      <td>0</td>\n",
       "      <td>0</td>\n",
       "      <td>0</td>\n",
       "      <td>0</td>\n",
       "      <td>0</td>\n",
       "      <td>0</td>\n",
       "      <td>0</td>\n",
       "      <td>0</td>\n",
       "    </tr>\n",
       "    <tr>\n",
       "      <th>4</th>\n",
       "      <td>315.54</td>\n",
       "      <td>2001</td>\n",
       "      <td>21</td>\n",
       "      <td>49</td>\n",
       "      <td>1</td>\n",
       "      <td>0</td>\n",
       "      <td>0</td>\n",
       "      <td>0</td>\n",
       "      <td>0</td>\n",
       "      <td>0</td>\n",
       "      <td>...</td>\n",
       "      <td>0</td>\n",
       "      <td>0</td>\n",
       "      <td>0</td>\n",
       "      <td>0</td>\n",
       "      <td>0</td>\n",
       "      <td>0</td>\n",
       "      <td>0</td>\n",
       "      <td>0</td>\n",
       "      <td>0</td>\n",
       "      <td>0</td>\n",
       "    </tr>\n",
       "  </tbody>\n",
       "</table>\n",
       "<p>5 rows × 1234 columns</p>\n",
       "</div>"
      ],
      "text/plain": [
       "    Gross  Year  Age  Name length  Genre_Action  Genre_Adventure  \\\n",
       "0  534.86  2008   14           15             1                0   \n",
       "1  377.85  2003   19           45             1                0   \n",
       "2  292.58  2010   12            9             1                0   \n",
       "3  342.55  2002   20           37             1                0   \n",
       "4  315.54  2001   21           49             1                0   \n",
       "\n",
       "   Genre_Animation  Genre_Biography  Genre_Comedy  Genre_Crime  ...  \\\n",
       "0                0                0             0            0  ...   \n",
       "1                0                0             0            0  ...   \n",
       "2                0                0             0            0  ...   \n",
       "3                0                0             0            0  ...   \n",
       "4                0                0             0            0  ...   \n",
       "\n",
       "   Director_Yorgos Lanthimos  Director_Yoshiaki Kawajiri  \\\n",
       "0                          0                           0   \n",
       "1                          0                           0   \n",
       "2                          0                           0   \n",
       "3                          0                           0   \n",
       "4                          0                           0   \n",
       "\n",
       "   Director_Yoshifumi Kondô  Director_Yôjirô Takita  Director_Zack Snyder  \\\n",
       "0                         0                       0                     0   \n",
       "1                         0                       0                     0   \n",
       "2                         0                       0                     0   \n",
       "3                         0                       0                     0   \n",
       "4                         0                       0                     0   \n",
       "\n",
       "   Director_Zaza Urushadze  Director_Zoya Akhtar  Director_Éric Lartigau  \\\n",
       "0                        0                     0                       0   \n",
       "1                        0                     0                       0   \n",
       "2                        0                     0                       0   \n",
       "3                        0                     0                       0   \n",
       "4                        0                     0                       0   \n",
       "\n",
       "   Director_Ömer Faruk Sorak  Director_Ömer Vargi  \n",
       "0                          0                    0  \n",
       "1                          0                    0  \n",
       "2                          0                    0  \n",
       "3                          0                    0  \n",
       "4                          0                    0  \n",
       "\n",
       "[5 rows x 1234 columns]"
      ]
     },
     "execution_count": 152,
     "metadata": {},
     "output_type": "execute_result"
    }
   ],
   "source": [
    "data.head()"
   ]
  },
  {
   "cell_type": "code",
   "execution_count": null,
   "id": "8b3442a7",
   "metadata": {},
   "outputs": [],
   "source": [
    "data.to_csv(\"IMDb_rating_data_after_analysis.csv\")"
   ]
  }
 ],
 "metadata": {
  "kernelspec": {
   "display_name": "Python 3 (ipykernel)",
   "language": "python",
   "name": "python3"
  },
  "language_info": {
   "codemirror_mode": {
    "name": "ipython",
    "version": 3
   },
   "file_extension": ".py",
   "mimetype": "text/x-python",
   "name": "python",
   "nbconvert_exporter": "python",
   "pygments_lexer": "ipython3",
   "version": "3.9.7"
  }
 },
 "nbformat": 4,
 "nbformat_minor": 5
}
