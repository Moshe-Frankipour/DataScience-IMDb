{
 "cells": [
  {
   "cell_type": "code",
   "execution_count": 7,
   "id": "eed21c57",
   "metadata": {},
   "outputs": [],
   "source": [
    "# Step 3 - Exploring Data\n",
    "import pandas as pd\n",
    "import matplotlib.pyplot as plt"
   ]
  },
  {
   "cell_type": "code",
   "execution_count": 8,
   "id": "c0b45d31",
   "metadata": {},
   "outputs": [
    {
     "data": {
      "text/html": [
       "<div>\n",
       "<style scoped>\n",
       "    .dataframe tbody tr th:only-of-type {\n",
       "        vertical-align: middle;\n",
       "    }\n",
       "\n",
       "    .dataframe tbody tr th {\n",
       "        vertical-align: top;\n",
       "    }\n",
       "\n",
       "    .dataframe thead th {\n",
       "        text-align: right;\n",
       "    }\n",
       "</style>\n",
       "<table border=\"1\" class=\"dataframe\">\n",
       "  <thead>\n",
       "    <tr style=\"text-align: right;\">\n",
       "      <th></th>\n",
       "      <th>Name</th>\n",
       "      <th>Genre</th>\n",
       "      <th>ID</th>\n",
       "      <th>Year</th>\n",
       "      <th>Imdb Rating</th>\n",
       "      <th>Director</th>\n",
       "      <th>Votes</th>\n",
       "      <th>Gross</th>\n",
       "      <th>malesRating</th>\n",
       "      <th>malesCount</th>\n",
       "      <th>femalesRating</th>\n",
       "      <th>femalesCount</th>\n",
       "    </tr>\n",
       "  </thead>\n",
       "  <tbody>\n",
       "    <tr>\n",
       "      <th>0</th>\n",
       "      <td>The Dark Knight</td>\n",
       "      <td>Action</td>\n",
       "      <td>tt0468569</td>\n",
       "      <td>2008</td>\n",
       "      <td>9.0</td>\n",
       "      <td>Christopher Nolan</td>\n",
       "      <td>2,556,384</td>\n",
       "      <td>534.86</td>\n",
       "      <td>9.0</td>\n",
       "      <td>1,476,807</td>\n",
       "      <td>8.7</td>\n",
       "      <td>264,598</td>\n",
       "    </tr>\n",
       "    <tr>\n",
       "      <th>1</th>\n",
       "      <td>The Lord of the Rings: The Return of the King</td>\n",
       "      <td>Action</td>\n",
       "      <td>tt0167260</td>\n",
       "      <td>2003</td>\n",
       "      <td>9.0</td>\n",
       "      <td>Peter Jackson</td>\n",
       "      <td>1,777,166</td>\n",
       "      <td>377.85</td>\n",
       "      <td>9.0</td>\n",
       "      <td>1,027,904</td>\n",
       "      <td>8.9</td>\n",
       "      <td>218,150</td>\n",
       "    </tr>\n",
       "    <tr>\n",
       "      <th>2</th>\n",
       "      <td>K.G.F: Chapter 2</td>\n",
       "      <td>Action</td>\n",
       "      <td>tt10698680</td>\n",
       "      <td>2022</td>\n",
       "      <td>8.9</td>\n",
       "      <td>Prashanth Neel</td>\n",
       "      <td>93,320</td>\n",
       "      <td>92.52</td>\n",
       "      <td>8.3</td>\n",
       "      <td>13,286</td>\n",
       "      <td>7.5</td>\n",
       "      <td>428</td>\n",
       "    </tr>\n",
       "    <tr>\n",
       "      <th>3</th>\n",
       "      <td>Everything Everywhere All at Once</td>\n",
       "      <td>Action</td>\n",
       "      <td>tt6710474</td>\n",
       "      <td>2022</td>\n",
       "      <td>8.8</td>\n",
       "      <td>Dan Kwan</td>\n",
       "      <td>39,711</td>\n",
       "      <td>92.52</td>\n",
       "      <td>8.7</td>\n",
       "      <td>17,826</td>\n",
       "      <td>8.7</td>\n",
       "      <td>3,781</td>\n",
       "    </tr>\n",
       "    <tr>\n",
       "      <th>4</th>\n",
       "      <td>Inception</td>\n",
       "      <td>Action</td>\n",
       "      <td>tt1375666</td>\n",
       "      <td>2010</td>\n",
       "      <td>8.8</td>\n",
       "      <td>Christopher Nolan</td>\n",
       "      <td>2,269,287</td>\n",
       "      <td>292.58</td>\n",
       "      <td>8.8</td>\n",
       "      <td>1,260,681</td>\n",
       "      <td>8.7</td>\n",
       "      <td>293,467</td>\n",
       "    </tr>\n",
       "  </tbody>\n",
       "</table>\n",
       "</div>"
      ],
      "text/plain": [
       "                                            Name   Genre          ID  Year  \\\n",
       "0                                The Dark Knight  Action   tt0468569  2008   \n",
       "1  The Lord of the Rings: The Return of the King  Action   tt0167260  2003   \n",
       "2                               K.G.F: Chapter 2  Action  tt10698680  2022   \n",
       "3              Everything Everywhere All at Once  Action   tt6710474  2022   \n",
       "4                                      Inception  Action   tt1375666  2010   \n",
       "\n",
       "   Imdb Rating           Director      Votes   Gross  malesRating malesCount  \\\n",
       "0          9.0  Christopher Nolan  2,556,384  534.86          9.0  1,476,807   \n",
       "1          9.0      Peter Jackson  1,777,166  377.85          9.0  1,027,904   \n",
       "2          8.9     Prashanth Neel     93,320   92.52          8.3     13,286   \n",
       "3          8.8           Dan Kwan     39,711   92.52          8.7     17,826   \n",
       "4          8.8  Christopher Nolan  2,269,287  292.58          8.8  1,260,681   \n",
       "\n",
       "   femalesRating femalesCount  \n",
       "0            8.7      264,598  \n",
       "1            8.9      218,150  \n",
       "2            7.5          428  \n",
       "3            8.7        3,781  \n",
       "4            8.7      293,467  "
      ]
     },
     "execution_count": 8,
     "metadata": {},
     "output_type": "execute_result"
    }
   ],
   "source": [
    "data = pd.read_csv(\"IMDb_rating_data_without_nan.csv\",index_col = 0)\n",
    "data.head()"
   ]
  },
  {
   "cell_type": "code",
   "execution_count": 9,
   "id": "eccf1a53",
   "metadata": {},
   "outputs": [
    {
     "data": {
      "text/plain": [
       "Text(0, 0.5, 'Frequency')"
      ]
     },
     "execution_count": 9,
     "metadata": {},
     "output_type": "execute_result"
    },
    {
     "data": {
      "image/png": "[encoded data removed]",
      "text/plain": [
       "<Figure size 432x288 with 1 Axes>"
      ]
     },
     "metadata": {
      "needs_background": "light"
     },
     "output_type": "display_data"
    }
   ],
   "source": [
    "data['Imdb Rating'].hist(bins=10)\n",
    "plt.xlabel('Imdb Rating')\n",
    "plt.ylabel('Frequency')"
   ]
  },
  {
   "cell_type": "code",
   "execution_count": null,
   "id": "7628ab00",
   "metadata": {},
   "outputs": [],
   "source": []
  }
 ],
 "metadata": {
  "kernelspec": {
   "display_name": "Python 3 (ipykernel)",
   "language": "python",
   "name": "python3"
  },
  "language_info": {
   "codemirror_mode": {
    "name": "ipython",
    "version": 3
   },
   "file_extension": ".py",
   "mimetype": "text/x-python",
   "name": "python",
   "nbconvert_exporter": "python",
   "pygments_lexer": "ipython3",
   "version": "3.9.7"
  }
 },
 "nbformat": 4,
 "nbformat_minor": 5
}
